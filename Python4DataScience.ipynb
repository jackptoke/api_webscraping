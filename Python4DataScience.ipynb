{
 "cells": [
  {
   "cell_type": "code",
   "execution_count": 5,
   "id": "7892eef9",
   "metadata": {
    "scrolled": true
   },
   "outputs": [
    {
     "name": "stdout",
     "output_type": "stream",
     "text": [
      "Greeting\n"
     ]
    }
   ],
   "source": [
    "print(\"Greeting\")"
   ]
  },
  {
   "cell_type": "code",
   "execution_count": 8,
   "id": "f1163d6a",
   "metadata": {},
   "outputs": [
    {
     "name": "stdout",
     "output_type": "stream",
     "text": [
      "6\n"
     ]
    }
   ],
   "source": [
    "greeting = \"hello Mike\"\n",
    "print(greeting.find(\"Mike\"))"
   ]
  },
  {
   "cell_type": "code",
   "execution_count": 9,
   "id": "4afcc95b",
   "metadata": {},
   "outputs": [],
   "source": [
    "x = 2/2"
   ]
  },
  {
   "cell_type": "code",
   "execution_count": 10,
   "id": "f0e3c06b",
   "metadata": {},
   "outputs": [
    {
     "name": "stdout",
     "output_type": "stream",
     "text": [
      "<class 'float'>\n"
     ]
    }
   ],
   "source": [
    "print(type(x))"
   ]
  },
  {
   "cell_type": "code",
   "execution_count": 2,
   "id": "24e37afc",
   "metadata": {},
   "outputs": [
    {
     "name": "stdout",
     "output_type": "stream",
     "text": [
      "0 A\n",
      "1 B\n",
      "2 C\n"
     ]
    }
   ],
   "source": [
    "for i,x in enumerate(['A','B','C']):    \n",
    "    print(i,x)"
   ]
  },
  {
   "cell_type": "code",
   "execution_count": 5,
   "id": "89f418f2",
   "metadata": {},
   "outputs": [
    {
     "name": "stdout",
     "output_type": "stream",
     "text": [
      "Michael\n",
      "AC/DC\n"
     ]
    }
   ],
   "source": [
    "def artistNames(*names):\n",
    "    for name in names:\n",
    "        print(name)\n",
    "\n",
    "names = [\"Michael\", \"AC/DC\"]\n",
    "artistNames(names)"
   ]
  },
  {
   "cell_type": "code",
   "execution_count": 7,
   "id": "e871c498",
   "metadata": {},
   "outputs": [
    {
     "name": "stdout",
     "output_type": "stream",
     "text": [
      "[1, 3, 2]\n",
      "[1, 2, 3]\n"
     ]
    }
   ],
   "source": [
    "l = [ 1, 3, 2]\n",
    "sorted(l)\n",
    "print(l)\n",
    "l.sort()\n",
    "print(l)"
   ]
  },
  {
   "cell_type": "code",
   "execution_count": 9,
   "id": "65d7c78e",
   "metadata": {},
   "outputs": [
    {
     "name": "stdout",
     "output_type": "stream",
     "text": [
      "78.55\n"
     ]
    }
   ],
   "source": [
    "class Circle(object):\n",
    "    def __init__(self, radius, color):\n",
    "        self.radius = radius\n",
    "        self.color = color\n",
    "        \n",
    "    def area(self):\n",
    "        return 3.142 * self.radius * self.radius\n",
    "    \n",
    "    def color(self):\n",
    "        return self.color\n",
    "\n",
    "c = Circle(5, \"blue\")\n",
    "print(c.area())"
   ]
  },
  {
   "cell_type": "code",
   "execution_count": 17,
   "id": "a58c69b5",
   "metadata": {},
   "outputs": [
    {
     "name": "stdout",
     "output_type": "stream",
     "text": [
      "{'dolor': 1, 'ipsum': 1, 'nonumy': 1, 'tempor': 1, 'et': 3, 'lorem': 2, 'consetetur': 1, 'diam': 5, 'labore': 1, 'eirmod': 1, 'magna': 2, 'sed': 1, 'amet': 2}\n",
      "2\n",
      "lorem ipsum dolor diam amet consetetur lorem magna sed diam nonumy eirmod tempor diam et labore et diam magna et diam amet\n"
     ]
    }
   ],
   "source": [
    "class analysedText(object):\n",
    "    def __init__(self, text):\n",
    "        delim = r'!@#$%^&*()=_+-,.?/<>\\|}][{'\n",
    "        for d in delim:\n",
    "            text = text.replace(d, '')\n",
    "        self.fmtText = text.lower()\n",
    "    \n",
    "    def freqAll(self):\n",
    "        words = self.fmtText.split()\n",
    "        keys = set(words)\n",
    "        dic = {}\n",
    "        for k in keys:\n",
    "            dic[k] = 0\n",
    "        for word in words:\n",
    "            dic[word] = dic[word] + 1\n",
    "        return dic\n",
    "    \n",
    "    def freqOf(self, word):\n",
    "        words = self.fmtText.split()\n",
    "        keys = set(words)\n",
    "        dic = {}\n",
    "        for k in keys:\n",
    "            dic[k] = 0\n",
    "        for word in words:\n",
    "            dic[word] = dic[word] + 1\n",
    "        return dic[word]\n",
    "\n",
    "t = analysedText(\"Lorem ipsum dolor! diam amet, consetetur Lorem magna. sed diam nonumy eirmod tempor. diam et labore? et diam magna. et diam amet.\")\n",
    "\n",
    "print(t.freqAll())\n",
    "print(t.freqOf('diam'))\n",
    "print(t.fmtText)\n",
    "        "
   ]
  },
  {
   "cell_type": "code",
   "execution_count": 18,
   "id": "e4391fd2",
   "metadata": {},
   "outputs": [
    {
     "name": "stdout",
     "output_type": "stream",
     "text": [
      "Go \n",
      "Mike\n"
     ]
    }
   ],
   "source": [
    "x=\"Go\"\n",
    "\n",
    "if(x==\"Go\"):\n",
    "\n",
    "  print('Go ')\n",
    "\n",
    "else:\n",
    "\n",
    "  print('Stop')\n",
    "\n",
    "print('Mike')"
   ]
  },
  {
   "cell_type": "code",
   "execution_count": 20,
   "id": "8c61f948",
   "metadata": {},
   "outputs": [
    {
     "name": "stdout",
     "output_type": "stream",
     "text": [
      "0\n"
     ]
    }
   ],
   "source": [
    "def delta(x):\n",
    "  if x==0:\n",
    "    y=1\n",
    "  else:\n",
    "    y=0\n",
    "  return(y)\n",
    "\n",
    "print(delta(1))"
   ]
  },
  {
   "cell_type": "code",
   "execution_count": 21,
   "id": "0fd31713",
   "metadata": {},
   "outputs": [
    {
     "name": "stdout",
     "output_type": "stream",
     "text": [
      "3\n"
     ]
    }
   ],
   "source": [
    "def add(a, b):\n",
    "    return a + b\n",
    "print(add(1, 2))"
   ]
  },
  {
   "cell_type": "code",
   "execution_count": 22,
   "id": "df8e3690",
   "metadata": {},
   "outputs": [
    {
     "name": "stdout",
     "output_type": "stream",
     "text": [
      "0\n",
      "1\n"
     ]
    }
   ],
   "source": [
    "x=0\n",
    "while(x<2):\n",
    "    print(x)\n",
    "    x=x+1  "
   ]
  },
  {
   "cell_type": "code",
   "execution_count": null,
   "id": "a98bcca5",
   "metadata": {},
   "outputs": [],
   "source": []
  }
 ],
 "metadata": {
  "kernelspec": {
   "display_name": "Python 3 (ipykernel)",
   "language": "python",
   "name": "python3"
  },
  "language_info": {
   "codemirror_mode": {
    "name": "ipython",
    "version": 3
   },
   "file_extension": ".py",
   "mimetype": "text/x-python",
   "name": "python",
   "nbconvert_exporter": "python",
   "pygments_lexer": "ipython3",
   "version": "3.9.5"
  }
 },
 "nbformat": 4,
 "nbformat_minor": 5
}
