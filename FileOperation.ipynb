{
 "cells": [
  {
   "cell_type": "code",
   "execution_count": 18,
   "id": "b2df3269",
   "metadata": {},
   "outputs": [
    {
     "name": "stdout",
     "output_type": "stream",
     "text": [
      "What the\n",
      " heck is this?\n",
      "Not again please!\n",
      "What the\n",
      " heck is this?\n",
      "Not again please!\n",
      "\n",
      "True\n",
      "What the\n",
      " heck is this?\n",
      "Not again please!\n",
      "What the\n",
      " heck is this?\n",
      "Not again please!\n",
      "\n"
     ]
    }
   ],
   "source": [
    "with open(\"file.txt\", 'r') as file1:\n",
    "    content = file1.read()\n",
    "    print(content)\n",
    "    \n",
    "print(file1.closed)\n",
    "print(content)\n"
   ]
  },
  {
   "cell_type": "code",
   "execution_count": 19,
   "id": "f891c454",
   "metadata": {},
   "outputs": [],
   "source": [
    "with open(\"file.txt\", 'a') as file1:\n",
    "    file1.write('What the\\n heck is this?\\n')\n",
    "    file1.write('Not again please!\\n')"
   ]
  },
  {
   "cell_type": "code",
   "execution_count": 29,
   "id": "c7eb9808",
   "metadata": {},
   "outputs": [
    {
     "name": "stdout",
     "output_type": "stream",
     "text": [
      "Active Members: \n",
      "\n",
      "\n",
      "Membership No  Date Joined  Active  \n",
      "    53959      2020-12-15   yes   \n",
      "    43798      2020-11-17   yes   \n",
      "    46146      2015-8-19    yes   \n",
      "    60488      2015-3-18    yes   \n",
      "    99570      2015-5-5     no    \n",
      "    90923      2020-10-4    yes   \n",
      "    70299      2018-7-3     no    \n",
      "    33647      2017-8-17    yes   \n",
      "    23014      2016-6-1     no    \n",
      "    50568      2016-2-23    yes   \n",
      "    63717      2018-8-18    yes   \n",
      "    12745      2020-12-1    no    \n",
      "    71833      2017-11-21   yes   \n",
      "    41133      2020-11-25   yes   \n",
      "    33488      2018-11-17   no    \n",
      "    50366      2015-5-13    no    \n",
      "    24539      2017-2-16    yes   \n",
      "    12697      2018-7-21    no    \n",
      "    33335      2015-1-25    no    \n",
      "    79099      2016-10-21   yes   \n",
      "\n",
      "Inactive Members: \n",
      "\n",
      "\n",
      "Membership No  Date Joined  Active  \n",
      "    68315      2020-10-23   no    \n",
      "    10920      2018-7-10    no    \n",
      "    83956      2018-11-10   no    \n",
      "\n"
     ]
    }
   ],
   "source": [
    "from random import randint as rnd\n",
    "\n",
    "memReg = 'members.txt'\n",
    "exReg = 'inactive.txt'\n",
    "fee =('yes','no')\n",
    "\n",
    "def genFiles(current,old):\n",
    "    with open(current,'w+') as writefile: \n",
    "        writefile.write('Membership No  Date Joined  Active  \\n')\n",
    "        data = \"{:^13}  {:<11}  {:<6}\\n\"\n",
    "\n",
    "        for rowno in range(20):\n",
    "            date = str(rnd(2015,2020))+ '-' + str(rnd(1,12))+'-'+str(rnd(1,25))\n",
    "            writefile.write(data.format(rnd(10000,99999),date,fee[rnd(0,1)]))\n",
    "\n",
    "\n",
    "    with open(old,'w+') as writefile: \n",
    "        writefile.write('Membership No  Date Joined  Active  \\n')\n",
    "        data = \"{:^13}  {:<11}  {:<6}\\n\"\n",
    "        for rowno in range(3):\n",
    "            date = str(rnd(2015,2020))+ '-' + str(rnd(1,12))+'-'+str(rnd(1,25))\n",
    "            writefile.write(data.format(rnd(10000,99999),date,fee[1]))\n",
    "\n",
    "genFiles(memReg,exReg)\n",
    "\n",
    "headers = \"Membership No  Date Joined  Active  \\n\"\n",
    "with open(memReg,'r') as readFile:\n",
    "    print(\"Active Members: \\n\\n\")\n",
    "    print(readFile.read())\n",
    "    \n",
    "with open(exReg,'r') as readFile:\n",
    "    print(\"Inactive Members: \\n\\n\")\n",
    "    print(readFile.read())"
   ]
  },
  {
   "cell_type": "code",
   "execution_count": 31,
   "id": "3cde2d0d",
   "metadata": {},
   "outputs": [
    {
     "name": "stdout",
     "output_type": "stream",
     "text": [
      "Active Members: \n",
      "\n",
      "\n",
      "Membership No  Date Joined  Active  \n",
      "    53959      2020-12-15   yes   \n",
      "    43798      2020-11-17   yes   \n",
      "    46146      2015-8-19    yes   \n",
      "    60488      2015-3-18    yes   \n",
      "    90923      2020-10-4    yes   \n",
      "    33647      2017-8-17    yes   \n",
      "    50568      2016-2-23    yes   \n",
      "    63717      2018-8-18    yes   \n",
      "    71833      2017-11-21   yes   \n",
      "    41133      2020-11-25   yes   \n",
      "    24539      2017-2-16    yes   \n",
      "    79099      2016-10-21   yes   \n",
      "\n",
      "Inactive Members: \n",
      "\n",
      "\n",
      "Membership No  Date Joined  Active  \n",
      "    68315      2020-10-23   no    \n",
      "    10920      2018-7-10    no    \n",
      "    83956      2018-11-10   no    \n",
      "    99570      2015-5-5     no    \n",
      "    70299      2018-7-3     no    \n",
      "    23014      2016-6-1     no    \n",
      "    12745      2020-12-1    no    \n",
      "    33488      2018-11-17   no    \n",
      "    50366      2015-5-13    no    \n",
      "    12697      2018-7-21    no    \n",
      "    33335      2015-1-25    no    \n",
      "\n"
     ]
    }
   ],
   "source": [
    "def cleanFiles(currentMem, exMem):\n",
    "    with open(currentMem, 'r+') as currentMemFile:\n",
    "        members = currentMemFile.readlines()\n",
    "\n",
    "    with open(exMem, 'a+') as exMemFile:\n",
    "        with open(currentMem, 'w+') as currentMemFile:\n",
    "            for member in members:\n",
    "                index = member.find('no')\n",
    "                if (index > -1):\n",
    "                    exMemFile.write(member)\n",
    "                else:\n",
    "                    currentMemFile.write(member)\n",
    "                    \n",
    "memReg = 'members.txt'\n",
    "exReg = 'inactive.txt'\n",
    "cleanFiles(memReg,exReg)\n",
    "\n",
    "\n",
    "headers = \"Membership No  Date Joined  Active  \\n\"\n",
    "with open(memReg,'r') as readFile:\n",
    "    print(\"Active Members: \\n\\n\")\n",
    "    print(readFile.read())\n",
    "    \n",
    "with open(exReg,'r') as readFile:\n",
    "    print(\"Inactive Members: \\n\\n\")\n",
    "    print(readFile.read())"
   ]
  },
  {
   "cell_type": "code",
   "execution_count": null,
   "id": "77163dd9",
   "metadata": {},
   "outputs": [],
   "source": []
  }
 ],
 "metadata": {
  "kernelspec": {
   "display_name": "Python 3 (ipykernel)",
   "language": "python",
   "name": "python3"
  },
  "language_info": {
   "codemirror_mode": {
    "name": "ipython",
    "version": 3
   },
   "file_extension": ".py",
   "mimetype": "text/x-python",
   "name": "python",
   "nbconvert_exporter": "python",
   "pygments_lexer": "ipython3",
   "version": "3.9.5"
  }
 },
 "nbformat": 4,
 "nbformat_minor": 5
}
