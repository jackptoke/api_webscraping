{
 "cells": [
  {
   "cell_type": "code",
   "execution_count": 1,
   "id": "88461fe5",
   "metadata": {},
   "outputs": [],
   "source": [
    "import pandas as pd\n",
    "csv_path = 'ex4.csv'\n",
    "data = pd.read_csv(csv_path) #read the content of a csv file\n",
    "\n",
    "data.head() #getting the headers of the data frame, i.e. the first row of the data frame\n",
    "\n",
    "#Define a dictionary 'x'\n",
    "\n",
    "x = {'Name': ['Rose','John', 'Jane', 'Mary'], 'ID': [1, 2, 3, 4], 'Department': ['Architect Group', 'Software Group', 'Design Team', 'Infrastructure'], \n",
    "      'Salary':[100000, 80000, 50000, 60000]}\n",
    "\n",
    "#casting the dictionary to a DataFrame\n",
    "df = pd.DataFrame(x)\n",
    "\n",
    "#display the result df\n",
    "df\n",
    "\n",
    "x = df[['Name']]  #creating a new data frame from the values of a column of another data frame\n",
    "y = df[['Name', 'Salary']]  #copying multiple columns into a new data frame\n",
    "\n",
    "df['Department'].unique() #getting the unique values of the 'released' column\n",
    "df1 = df[df['Salary']>=1980] # filtering the values of a column\n",
    "\n",
    "df1.to_csv('new_songs.csv')  #save the new data into a csv file"
   ]
  },
  {
   "cell_type": "code",
   "execution_count": null,
   "id": "472881ca",
   "metadata": {},
   "outputs": [],
   "source": []
  }
 ],
 "metadata": {
  "kernelspec": {
   "display_name": "Python 3 (ipykernel)",
   "language": "python",
   "name": "python3"
  },
  "language_info": {
   "codemirror_mode": {
    "name": "ipython",
    "version": 3
   },
   "file_extension": ".py",
   "mimetype": "text/x-python",
   "name": "python",
   "nbconvert_exporter": "python",
   "pygments_lexer": "ipython3",
   "version": "3.9.12"
  }
 },
 "nbformat": 4,
 "nbformat_minor": 5
}
